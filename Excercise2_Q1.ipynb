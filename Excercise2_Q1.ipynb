{
 "cells": [
  {
   "cell_type": "code",
   "execution_count": 8,
   "id": "a43ea0b9",
   "metadata": {},
   "outputs": [
    {
     "name": "stdout",
     "output_type": "stream",
     "text": [
      "                            OLS Regression Results                            \n",
      "==============================================================================\n",
      "Dep. Variable:                  Y_obs   R-squared:                       0.698\n",
      "Model:                            OLS   Adj. R-squared:                  0.662\n",
      "Method:                 Least Squares   F-statistic:                     19.61\n",
      "Date:                Sun, 20 Apr 2025   Prob (F-statistic):           3.84e-05\n",
      "Time:                        17:14:01   Log-Likelihood:                -57.076\n",
      "No. Observations:                  20   AIC:                             120.2\n",
      "Df Residuals:                      17   BIC:                             123.1\n",
      "Df Model:                           2                                         \n",
      "Covariance Type:            nonrobust                                         \n",
      "==============================================================================\n",
      "                 coef    std err          t      P>|t|      [0.025      0.975]\n",
      "------------------------------------------------------------------------------\n",
      "const         95.9662      8.919     10.760      0.000      77.148     114.784\n",
      "W             -9.1057      2.053     -4.434      0.000     -13.438      -4.773\n",
      "X              1.5149      0.373      4.062      0.001       0.728       2.302\n",
      "==============================================================================\n",
      "Omnibus:                        3.565   Durbin-Watson:                   1.876\n",
      "Prob(Omnibus):                  0.168   Jarque-Bera (JB):                1.670\n",
      "Skew:                           0.577   Prob(JB):                        0.434\n",
      "Kurtosis:                       3.820   Cond. No.                         206.\n",
      "==============================================================================\n",
      "\n",
      "Notes:\n",
      "[1] Standard Errors assume that the covariance matrix of the errors is correctly specified.\n"
     ]
    }
   ],
   "source": [
    "import pandas as pd\n",
    "import statsmodels.api as sm\n",
    "import pickle\n",
    "\n",
    "# Step 1: Create the dataset\n",
    "data = {\n",
    "    'Y_obs': [137, 118, 124, 124, 120, 129, 122, 142, 128, 114,\n",
    "              132, 130, 130, 112, 132, 117, 134, 132, 121, 128],\n",
    "    'W':     [0, 1, 1, 1, 0, 1, 1, 0, 0, 1,\n",
    "              1, 0, 0, 1, 0, 1, 0, 0, 1, 1],\n",
    "    'X':     [19.8, 23.4, 27.7, 24.6, 21.5, 25.1, 22.4, 29.3, 20.8, 20.2,\n",
    "              27.3, 24.5, 22.9, 18.4, 24.2, 21.0, 25.9, 23.2, 21.6, 22.8]\n",
    "}\n",
    "df = pd.DataFrame(data)\n",
    "\n",
    "# Step 2: Prepare the input features and add the constant term (intercept)\n",
    "X_reg = sm.add_constant(df[['W', 'X']])\n",
    "Y_reg = df['Y_obs']\n",
    "\n",
    "# Step 3: Fit the OLS regression model\n",
    "model = sm.OLS(Y_reg, X_reg).fit()\n",
    "\n",
    "# Step 4: Print the summary (optional)\n",
    "print(model.summary())\n",
    "\n",
    "# Step 5: Save the trained model to a .pkl file\n",
    "with open(\"model.pkl\", \"wb\") as f:\n",
    "    pickle.dump(model, f)\n"
   ]
  },
  {
   "cell_type": "markdown",
   "id": "92372d7d",
   "metadata": {},
   "source": [
    "Parameter | Estimate | Std. Error | t-value | p-value | 95% CI\n",
    "\n",
    "α (const) | 95.97 | 8.92 | 10.76 | 0.000 | [77.15, 114.78]\n",
    "τ (W) | –9.11 | 2.05 | –4.43 | 0.000 | [–13.44, –4.77]\n",
    "β (X) | 1.51 | 0.37 | 4.06 | 0.001 | [0.73, 2.30]"
   ]
  }
 ],
 "metadata": {
  "kernelspec": {
   "display_name": "Python 3",
   "language": "python",
   "name": "python3"
  },
  "language_info": {
   "codemirror_mode": {
    "name": "ipython",
    "version": 3
   },
   "file_extension": ".py",
   "mimetype": "text/x-python",
   "name": "python",
   "nbconvert_exporter": "python",
   "pygments_lexer": "ipython3",
   "version": "3.12.7"
  }
 },
 "nbformat": 4,
 "nbformat_minor": 5
}
